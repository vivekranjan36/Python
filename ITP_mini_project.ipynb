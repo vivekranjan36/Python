{
 "cells": [
  {
   "cell_type": "markdown",
   "metadata": {},
   "source": [
    "# <center>PGP Data Science Engineering</center>\n",
    "## <center>Introduction to Programming – Mini Project:</center>\n"
   ]
  },
  {
   "cell_type": "markdown",
   "metadata": {},
   "source": [
    "Problem 1:\n",
    "\n",
    "1. Write a program to calculate area of shapes. Your program should be capable of calculating the area of a square, rectangle, triangle and a circle. The user should be presented with options to select the shape. Based on which shape is chosed by the user, the program should ask for the appropriate input and print the resulting area on the screen.\n",
    "\n",
    "When the program is run, the screen should display something like this:\n",
    "\n",
    "**Which shape would you like to calculate the area for? Please enter the option number-**<br>\n",
    "**1. Square**<br>\n",
    "**2. Rectangle**<br>\n",
    "**3. Triangle**<br>\n",
    "**4. Circle**<br>\n",
    "**Enter Option: _**\n",
    "\n",
    "Say the user enters the option 1.\n",
    "\n",
    "**Please enter the length of a side: _**\n",
    "\n",
    "If the user enters a value of 5. The output should be:\n",
    "\n",
    "**The area of the square is 25**\n",
    "\n",
    "This program should indicate that the input is invalid if the user enters a character instead of a number as input. For instance if the user enters a value of ‘a’ instead of 5 in the previous example the program should prompt:\n",
    "\n",
    "**Invalid input, please enter a number: _**\n"
   ]
  },
  {
   "cell_type": "code",
   "execution_count": 1,
   "metadata": {},
   "outputs": [
    {
     "name": "stdout",
     "output_type": "stream",
     "text": [
      "Which shape would you like to calculate the area for? Please enter the option number-\n",
      "1. Square\n",
      "2. Rectangle\n",
      "3. Triangle\n",
      "4. Circle\n",
      "Enter Option:4\n",
      "Please enter the radius of the circle: 3\n",
      "The area of the circle is  28.274333882308138\n"
     ]
    }
   ],
   "source": [
    "from math import pi\n",
    "def calculate_area(a):\n",
    "    if a==1:\n",
    "        l=input(\"Please enter the length of a side: \")\n",
    "        if l.isdigit():\n",
    "            l1=int(l)\n",
    "            area=l1*l1\n",
    "            print(\"The area of the square is \",area)\n",
    "        else:\n",
    "            print(\"Invalid input, please enter a number: \")\n",
    "    elif a==2:\n",
    "        l=input(\"Please enter the length of a side: \")\n",
    "        b=input(\"Please enter the breadth of a side: \")\n",
    "        if ((l.isdigit()) and (b.isdigit())):\n",
    "            l1=int(l)\n",
    "            b1=int(b)\n",
    "            area=l1*b1\n",
    "            print(\"The area of the rectangle is \",area)\n",
    "        else:\n",
    "            print(\"Invalid input, please enter a number: \")\n",
    "    elif a==3:\n",
    "        h=input(\"Please enter the height of the triangle: \")\n",
    "        b=input(\"Please enter the base of the triangle: \")\n",
    "        if ((h.isdigit()) and (b.isdigit())):\n",
    "            h1=int(h)\n",
    "            b1=int(b)\n",
    "            area=0.5*h1*b1\n",
    "            print(\"The area of the rectangle is \",area)\n",
    "        else:\n",
    "            print(\"Invalid input, please enter a number: \")\n",
    "    elif a==4:\n",
    "        r=input(\"Please enter the radius of the circle: \")\n",
    "        if r.isdigit():\n",
    "            r1=int(r)\n",
    "            area=pi*r1*r1\n",
    "            print(\"The area of the circle is \",area)\n",
    "        else:\n",
    "            print(\"Invalid input, please enter a number: \")\n",
    "    else:\n",
    "        print(\"Invalid Entry. Please enter one among the above choices. \")\n",
    "        a=int(input(\"Which shape would you like to calculate the area for? Please enter the option number-\\n1. Square\\n2. Rectangle\\n3. Triangle\\n4. Circle\\nEnter Option:\"))\n",
    "        calculate_area(a)  \n",
    "\n",
    "\n",
    "a=int(input(\"Which shape would you like to calculate the area for? Please enter the option number-\\n1. Square\\n2. Rectangle\\n3. Triangle\\n4. Circle\\nEnter Option:\"))\n",
    "calculate_area(a)  "
   ]
  },
  {
   "cell_type": "markdown",
   "metadata": {},
   "source": [
    "Problem 2:\n",
    "\n",
    "Create and encrypter in python based on the ceaser cipher. It is a substitution cipher where each character of the original text is shifted a certain number characters in the alphabet. Write a function that would require 2 arguments – the input text to be encrypted and a key. For eg: Given the input text ‘hello’ and the key 3, the resulting encryted text would be ‘khoor’. Here you can see that every character in the string hello is shifted by 3 characters. ‘h’ has shifted to ‘k’, ‘e’ has shifted to ‘h’ and so on. If a key of 5 were used, the resulting string would be ‘mjqqt’. This function should be capable of ignoring any characters which are not alphabets. Th2 character ‘z’ entered b\n",
    "y the user for a key of 3 would result in ‘c’.\n",
    "\n",
    "Usage:<br>\n",
    "**encrypt(‘hello world!’, 3)**<br>\n",
    "**‘khoor zruog!’**\n",
    "\n",
    "Similarly create decrypter which can decode the encryted text when provided the input text and key\n",
    "\n",
    "Usage:<br>\n",
    "**decrypt(‘khoor zruog!’, 3)**<br>\n",
    "**‘hello world!’**\n",
    "\n",
    "For the sake of simplicity you can assume that input solely consists of lowercase alphabets, spaces and punctuation symbols. Numbers in the input text would also be ignored similar to symbols."
   ]
  },
  {
   "cell_type": "code",
   "execution_count": 8,
   "metadata": {},
   "outputs": [
    {
     "name": "stdout",
     "output_type": "stream",
     "text": [
      "Enter a string: hello\n",
      "Enter the key: 3\n",
      "Enter your option : \n",
      "1.Encrypt  \n",
      "2.Decrypt\n",
      "1\n",
      "khoor\n"
     ]
    }
   ],
   "source": [
    "def encrypt(string,key):\n",
    "    alpha='abcdefghijklmnopqrstuvwxyz'\n",
    "    out=''\n",
    "    alpha_u=alpha.upper()\n",
    "    for i in string:\n",
    "        if i.isalpha():\n",
    "            if i in alpha:\n",
    "                out+=alpha[(alpha.find(i)+key) % 26]\n",
    "            elif i in alpha_u:\n",
    "                out+=alpha_u[(alpha_u.find(i)+key) % 26]\n",
    "        else:\n",
    "            out+=i\n",
    "    return out\n",
    "\n",
    "def decrypt(string,key):\n",
    "    alpha='abcdefghijklmnopqrstuvwxyz'\n",
    "    out=''\n",
    "    alpha_u=alpha.upper()\n",
    "    for i in string:\n",
    "        if i.isalpha():\n",
    "            if i in alpha:\n",
    "                out+=alpha[(alpha.find(i)-key) % 26]\n",
    "            elif i in alpha_u:\n",
    "                out+=alpha_u[(alpha_u.find(i)-key) % 26]\n",
    "        else:\n",
    "            out+=i\n",
    "    return out\n",
    "    \n",
    "    \n",
    "string=input(\"Enter a string: \")\n",
    "key=int(input(\"Enter the key: \"))\n",
    "x=int(input(\"Enter your option : \\n1.Encrypt  \\n2.Decrypt\\n\"))\n",
    "if x==1:\n",
    "    a=encrypt(string,key)\n",
    "    print(a)\n",
    "if x==2:\n",
    "    b=decrypt(string,key)\n",
    "    print(b)"
   ]
  },
  {
   "cell_type": "code",
   "execution_count": null,
   "metadata": {},
   "outputs": [],
   "source": []
  }
 ],
 "metadata": {
  "kernelspec": {
   "display_name": "Python 3",
   "language": "python",
   "name": "python3"
  },
  "language_info": {
   "codemirror_mode": {
    "name": "ipython",
    "version": 3
   },
   "file_extension": ".py",
   "mimetype": "text/x-python",
   "name": "python",
   "nbconvert_exporter": "python",
   "pygments_lexer": "ipython3",
   "version": "3.7.3"
  }
 },
 "nbformat": 4,
 "nbformat_minor": 2
}
